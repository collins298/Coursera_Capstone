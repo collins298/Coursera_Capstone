{
 "cells": [
  {
   "cell_type": "markdown",
   "metadata": {},
   "source": [
    "# Report for Capstone Project \n",
    "## Title: Finding Similar Neighborhoods between Toronto, ON and Queens, NewYork\n",
    "\n",
    "### Written by Collins Opoku-Baah"
   ]
  },
  {
   "cell_type": "markdown",
   "metadata": {},
   "source": [
    "### 1. Problem Description and Background"
   ]
  },
  {
   "cell_type": "markdown",
   "metadata": {},
   "source": [
    "The world has become one giant global village and thus, each and every minute, people travel from one place to another. \n",
    "The purpose for traveling could be temporary that is for vacation, business, visits etc or could be permanent e.g. school, work etc\n",
    "When people live in a particular region for a long time, they tend to embrace the cultures (e.g food, clothing, language etc) of that region,\n",
    "making it very difficult to transition into other neighborhoods. For example, a person who loves seafood and attend yoga classes will want to\n",
    "move to a new place with such venues in order to continue having their pleasant life experience. However, find a place that share similar venue\n",
    "as your current neighborhood can be burdensome considering how developed most cities in the world are currently. Hence, this project aims to find\n",
    "neighborhoods between two big cities namely Toronto, ON and Queens, New York that are similar with respect to venues. To do this, I will employ\n",
    "machine learning approaches and other techniques to segment and cluster neighborhoods in these two cities. "
   ]
  },
  {
   "cell_type": "markdown",
   "metadata": {},
   "source": [
    "### 2. Decription of the Data and its Intended Usage"
   ]
  },
  {
   "cell_type": "markdown",
   "metadata": {},
   "source": [
    "The data for this project will comprise the neighborhoods in Toronto, ON, Canada and Queens, New York, USA. We will obtain the coordinates \n",
    "(latitudes and longitudes) of these neighborhoods and using the Foursquare API, we will obtain location venues such as yoga places, restaurants, etc that are within a defined radius around\n",
    "these neighborhoods. Using Kmeans clustering approach, we will segment and cluster these neighborhoods to determine which ones between the two \n",
    "cities are similar."
   ]
  },
  {
   "cell_type": "code",
   "execution_count": null,
   "metadata": {},
   "outputs": [],
   "source": []
  }
 ],
 "metadata": {
  "kernelspec": {
   "display_name": "Python 3",
   "language": "python",
   "name": "python3"
  },
  "language_info": {
   "codemirror_mode": {
    "name": "ipython",
    "version": 3
   },
   "file_extension": ".py",
   "mimetype": "text/x-python",
   "name": "python",
   "nbconvert_exporter": "python",
   "pygments_lexer": "ipython3",
   "version": "3.6.8"
  }
 },
 "nbformat": 4,
 "nbformat_minor": 2
}
